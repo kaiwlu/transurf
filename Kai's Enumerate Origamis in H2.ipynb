{
 "cells": [
  {
   "cell_type": "code",
   "execution_count": 33,
   "metadata": {},
   "outputs": [],
   "source": [
    "from surface_dynamics.all import Origami\n",
    "import numpy as np"
   ]
  },
  {
   "cell_type": "code",
   "execution_count": 34,
   "metadata": {},
   "outputs": [],
   "source": [
    "def cycle_notation(array): \n",
    "    '''\n",
    "        Argument: array of integers representing gluing instruction of origami, every element in array is glued to the next\n",
    "        Return: string representing the cycle of the gluing\n",
    "        Comment: assumes array is a permutation we are using which is a cycle as we are gluing the boxes\n",
    "            until the edges meet, and is therefore NOT a general method for converting permutation to cycle notation, \n",
    "            it basically makes the array a string\n",
    "    '''\n",
    "    cycle = '('\n",
    "    for i in array:\n",
    "        cycle = cycle + str(int(i)) + ','\n",
    "    cycle = cycle[:-1] + ')'\n",
    "    return cycle"
   ]
  },
  {
   "cell_type": "code",
   "execution_count": 35,
   "metadata": {},
   "outputs": [],
   "source": [
    "def enum_strata(n):\n",
    "    '''\n",
    "        Argument: integer n, size of origamis\n",
    "        Return: array of origamis of the form two sheared rectangles stacked and aligned on left, \n",
    "            with bottom rectangle wider than top rectangle, they are in H(2)\n",
    "        Comment: https://jamboard.google.com/d/1OSRaahlM2KiY1_onnQ5y6TDBOrseFGrHhtssKQc2ee0/edit?usp=sharing\n",
    "            on slide 3 explains external gluing formula\n",
    "    '''\n",
    "    surfaces = []\n",
    "    for u2 in range(2, n): # base rectangle has width [2, n-1)\n",
    "        for h2 in range(1, round(n/u2) + 1): # base rectangle has height [1, n/u2)\n",
    "            upperbound = min(u2, n-u2*h2 + 1) # top rectangle has width less than u2 or at most area of the top rectangle\n",
    "            for u1 in range(1, upperbound): # top rectangle has width [1, upperbound)\n",
    "                if (n-u2*h2)%u1 == 0: # as long as u1 divides the area, it's valid\n",
    "                    h1 = (n-u2*h2)/u1\n",
    "                    rectangle2 = np.arange(1, u2*h2 + 1)\n",
    "                    rect2 = np.reshape(rectangle2, (h2, u2)) # base rectangle rect2\n",
    "                    rect2 = np.flip(rect2,0)\n",
    "                    rectangle1 = np.arange(u2*h2 + 1, n + 1)\n",
    "                    rect1 = np.reshape(rectangle1, (h1, u1)) # top rectangle rect1\n",
    "                    rect1 = np.flip(rect1,0)\n",
    "                    hperm = '' \n",
    "                    # horizontal (right) permutation is independent of twist\n",
    "                    for i in range(h1):\n",
    "                        hperm += cycle_notation(rect1[i])\n",
    "                    for i in range(h2):\n",
    "                        hperm += cycle_notation(rect2[i])\n",
    "                    for t1 in range(u1):\n",
    "                        for t2 in range(u2):\n",
    "                            marker = [1] * u2\n",
    "                            vperm = ''\n",
    "                            while sum(marker) != 0:\n",
    "                                nextn = np.nonzero(marker)[0][0]\n",
    "                                column = []\n",
    "                                while marker[nextn] != 0:\n",
    "                                    column = np.concatenate(([row[nextn] for row in rect2],column))\n",
    "                                    marker[nextn] = 0\n",
    "                                    if nextn < u1:\n",
    "                                        col = [row[nextn] for row in rect1]\n",
    "                                        column = np.concatenate((col, column))\n",
    "                                        nextn = (u2-t2+(u1+nextn-t1)%u1)%u2\n",
    "                                    else:\n",
    "                                        nextn = (nextn+u2-t2)%u2\n",
    "                                vperm += cycle_notation(np.flip(column,0))\n",
    "                            origami = Origami(vperm, hperm)\n",
    "                            surfaces.append(origami)\n",
    "    return surfaces"
   ]
  },
  {
   "cell_type": "code",
   "execution_count": 36,
   "metadata": {},
   "outputs": [],
   "source": [
    "def G(n):\n",
    "    '''\n",
    "        Argument: number n for input\n",
    "        Return: the value of G(n) as in the paper\n",
    "        Comment: only works for n up to 48 because the totient functions are hard coded\n",
    "        https://arxiv.org/pdf/1810.08687.pdf\n",
    "    '''\n",
    "    Jordan_totient = [0, 1, 3, 8, 12, 24, 24, 48, 48, 72, 72, 120, 96, 168, 144, 192, 192, 288, 216, 360, 288, 384, 360, 528, 384, 600, 504, 648, 576, 840, 576, 960, 768, 960, 864, 1152, 864, 1368, 1080, 1344, 1152, 1680, 1152, 1848, 1440, 1728, 1584, 2208, 1536]\n",
    "    Euler_totient = [0, 1, 1, 2, 2, 4, 2, 6, 4, 6, 4, 10, 4, 12, 6, 8, 8, 16, 6, 18, 8, 12, 10, 22, 8, 20, 12, 18, 12, 28, 8, 30, 16, 20, 16, 24, 12, 36, 18, 24, 16, 40, 12, 42, 20, 24, 22, 46, 16, 42, 20, 32, 24, 52, 18, 40, 24, 36, 28, 58, 16, 60, 30, 36, 32]\n",
    "    g = 5/24*n*Jordan_totient[n]+1/2*n*Euler_totient[n]-3/4*Jordan_totient[n]\n",
    "    return g"
   ]
  },
  {
   "cell_type": "code",
   "execution_count": 37,
   "metadata": {
    "scrolled": true
   },
   "outputs": [
    {
     "name": "stdout",
     "output_type": "stream",
     "text": [
      "True\n",
      "True\n",
      "True\n",
      "True\n",
      "True\n",
      "True\n",
      "True\n",
      "True\n",
      "True\n",
      "True\n",
      "True\n",
      "True\n",
      "True\n",
      "True\n"
     ]
    }
   ],
   "source": [
    "# This is a brief test for counting\n",
    "for i in [3, 5, 7, 11, 13, 17, 19, 23, 29, 31, 37, 41, 43, 47]:\n",
    "    print(G(i) == len(enum_strata(i)))"
   ]
  }
 ],
 "metadata": {
  "kernelspec": {
   "display_name": "SageMath 9.2",
   "language": "sage",
   "name": "sagemath"
  },
  "language_info": {
   "codemirror_mode": {
    "name": "ipython",
    "version": 3
   },
   "file_extension": ".py",
   "mimetype": "text/x-python",
   "name": "python",
   "nbconvert_exporter": "python",
   "pygments_lexer": "ipython3",
   "version": "3.7.7"
  }
 },
 "nbformat": 4,
 "nbformat_minor": 4
}
