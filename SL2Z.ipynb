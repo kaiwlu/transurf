{
 "cells": [
  {
   "cell_type": "code",
   "execution_count": 7,
   "metadata": {},
   "outputs": [
    {
     "data": {
      "text/plain": [
       "(1)(2,3)\n",
       "(1,2)(3)"
      ]
     },
     "execution_count": 7,
     "metadata": {},
     "output_type": "execute_result"
    }
   ],
   "source": [
    "from surface_dynamics.all import Origami # Setting up the imports\n",
    "import numpy as np\n",
    "\n",
    "def sl2_action(matrix, origami): # Assuming the user is nice and matrix is in SL(2,Z)\n",
    "    Sinv = Matrix([[0,1],[-1,0]])\n",
    "    Tinv = Matrix([[1,-1],[0,1]])\n",
    "    A = Matrix([[2,0]])\n",
    "    while matrix[1,0] != 0:\n",
    "        if matrix[0,0] <= 0 or matrix[1,0] < 0:\n",
    "            matrix = Sinv * matrix\n",
    "            A = np.insert(A, 0, np.array((0, 1)), 0) # insert an S at the beginning\n",
    "        else:\n",
    "            c=ceil(matrix[0,0]/matrix[1,0])\n",
    "            matrix[0,0] = matrix[0,0]-c*matrix[1,0]\n",
    "            matrix[0,1] = matrix[0,1]-c*matrix[1,1]\n",
    "            A = np.insert(A, 0, np.array((1, c)), 0)\n",
    "    for a in A:\n",
    "        if a[0] == 0:\n",
    "            origami = origami.vertical_symmetry()\n",
    "        if a[0] == 1:\n",
    "            origami = origami.horizontal_twist(a[1])\n",
    "    return origami\n",
    "\n",
    "T_up_permutation = '(1, 2)' # We are using cycle notation for permutation.\n",
    "T_right_permutation = '(2, 3)'\n",
    "\n",
    "T = Origami(T_right_permutation, T_up_permutation)\n",
    "sl2_action(Matrix([[4,3],[9,7]]),T)"
   ]
  },
  {
   "cell_type": "code",
   "execution_count": null,
   "metadata": {},
   "outputs": [],
   "source": []
  }
 ],
 "metadata": {
  "kernelspec": {
   "display_name": "SageMath 9.2",
   "language": "sage",
   "name": "sagemath"
  },
  "language_info": {
   "codemirror_mode": {
    "name": "ipython",
    "version": 3
   },
   "file_extension": ".py",
   "mimetype": "text/x-python",
   "name": "python",
   "nbconvert_exporter": "python",
   "pygments_lexer": "ipython3",
   "version": "3.7.7"
  }
 },
 "nbformat": 4,
 "nbformat_minor": 4
}
