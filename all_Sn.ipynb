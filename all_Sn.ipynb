{
 "cells": [
  {
   "cell_type": "code",
   "execution_count": 1,
   "metadata": {},
   "outputs": [],
   "source": [
    "from surface_dynamics.all import Origami\n",
    "import numpy as np\n",
    "from itertools import permutations "
   ]
  },
  {
   "cell_type": "code",
   "execution_count": 2,
   "metadata": {},
   "outputs": [],
   "source": [
    "def decomposeHU(n):\n",
    "    \"\"\"\n",
    "    Input an integer n, output a list of all possible decomposition of (h,u)\n",
    "    such that h*u = n\n",
    "    \"\"\"\n",
    "    output = []\n",
    "    for i in range(int(np.sqrt(n))):\n",
    "        j = i+1\n",
    "        if (n/j) == (n//j):\n",
    "            output.append(np.array((j,n/j)))\n",
    "    return output\n",
    "\n",
    "#decomposeHU(1)"
   ]
  },
  {
   "cell_type": "code",
   "execution_count": 3,
   "metadata": {},
   "outputs": [],
   "source": [
    "def decomposeNN(n):\n",
    "    \"\"\"\n",
    "    Input an integer n, output a list of all possible decomposition of (n1, n2)\n",
    "    such that n1+n2 = n\n",
    "    \"\"\"\n",
    "    output = []\n",
    "    for i in range(n):\n",
    "        j = i+1\n",
    "        output.append(np.array((j,n-j)))\n",
    "    return output\n",
    "\n",
    "#decomposeNN(3)"
   ]
  },
  {
   "cell_type": "code",
   "execution_count": 4,
   "metadata": {},
   "outputs": [],
   "source": [
    "def decomposeHUHU(n):\n",
    "    \"\"\"\n",
    "    Input an integer n, output a list of all possible decompositions of\n",
    "    (h1, u1, h2, u2) such that h1*u1+h2*u2 = n, and u1 < u2\n",
    "    \"\"\"\n",
    "    output = []\n",
    "    n1_n2 = decomposeNN(n)\n",
    "    for n1, n2 in n1_n2:\n",
    "        h1_u1 = decomposeHU(n1)\n",
    "        h2_u2 = decomposeHU(n2)\n",
    "        for h1, u1 in h1_u1:\n",
    "            for h2, u2 in h2_u2:\n",
    "                if (u1 < u2):\n",
    "                    new = np.array((h1,u1,h2,u2)).astype(int)\n",
    "                    output.append(new)\n",
    "    return output\n",
    "\n",
    "#decomposeHUHU(4)"
   ]
  },
  {
   "cell_type": "code",
   "execution_count": 5,
   "metadata": {},
   "outputs": [],
   "source": [
    "def up_right_pairs(h,u):\n",
    "    \"\"\"\n",
    "    Input a rectangle with height h and width w, construct up and right permutation pieces\n",
    "    \"\"\"\n",
    "    up_pairs = []\n",
    "    right_pairs = []\n",
    "    for i in range(u):\n",
    "        up_pairs.append(np.arange(i+1+(h-1)*u,i,-u))\n",
    "    for i in range(h):\n",
    "        right_pairs.append(np.arange(1+i*u,1+(i+1)*u,1))\n",
    "    return up_pairs, right_pairs"
   ]
  },
  {
   "cell_type": "code",
   "execution_count": 6,
   "metadata": {},
   "outputs": [],
   "source": [
    "def two_up_right_pairs(h1,u1,h2,u2):\n",
    "    \"\"\"\n",
    "    Input a rectangle with height h and width w, construct up and right permutation pieces\n",
    "    \"\"\"\n",
    "    up_pairs = []\n",
    "    right_pairs = []\n",
    "    \n",
    "    for i in range(u1):\n",
    "        half_up = np.arange(i+1+(h1-1)*u1,i,-u1)\n",
    "        half_down = np.arange(h1*u1+i+1+(h2-1)*u2,h1*u1+i,-u2)\n",
    "        one = np.concatenate((half_down, half_up))\n",
    "        up_pairs.append(one)\n",
    "    for i in range(u1,u2):\n",
    "        up_pairs.append(np.arange(h1*u1+i+1+(h2-1)*u2,h1*u1+i,-u2))\n",
    "    for i in range(h1):\n",
    "        right_pairs.append(np.arange(1+i*u1,1+(i+1)*u1,1))\n",
    "    for i in range(h1,h1+h2):\n",
    "        right_pairs.append(np.arange(1+h1*u1+(i-h1)*u2,1+h1*u1+(i+1-h1)*u2,1))\n",
    "    return up_pairs, right_pairs\n",
    "\n",
    "#up_pairs, right_pairs = two_up_right_pairs(3,5,2,8)\n",
    "#print(right_pairs)"
   ]
  },
  {
   "cell_type": "code",
   "execution_count": 7,
   "metadata": {},
   "outputs": [],
   "source": [
    "def arr_to_circ_per(arr,n):\n",
    "    \"\"\"\n",
    "    Input an array or tuple representing a permutation in the array form, \n",
    "    output the same permutation using circular notation, as a list of arrays\n",
    "    \"\"\"\n",
    "    circ = []\n",
    "    index = []\n",
    "    for j in range(n):\n",
    "        if (j not in index):\n",
    "            #length = 0\n",
    "            piece = []\n",
    "            piece.append(j)\n",
    "            index.append(j)\n",
    "            head = j\n",
    "            tail = arr[j]\n",
    "            while (tail != head):\n",
    "                #length = length + 1\n",
    "                piece.append(tail)\n",
    "                index.append(tail)\n",
    "                tail = arr[tail]\n",
    "            piece = np.array(piece)\n",
    "            circ.append(piece)\n",
    "    return circ\n",
    "\n",
    "#arr_to_circ_per((2,1,0),3)"
   ]
  },
  {
   "cell_type": "code",
   "execution_count": 8,
   "metadata": {},
   "outputs": [],
   "source": [
    "def circ_per(n):\n",
    "    \"\"\"\n",
    "    Input a n, output a list of all the permutation using circular notation,\n",
    "    each circular permutation is represented as a list of arrays\n",
    "    \"\"\"\n",
    "    l = list(permutations(range(0, n)))\n",
    "    for i in range(len(l)):\n",
    "        inter = l[i]\n",
    "        circ = arr_to_circ_per(inter,n)\n",
    "        l[i] = circ\n",
    "    return l\n",
    "\n",
    "#circ_per(3)"
   ]
  },
  {
   "cell_type": "code",
   "execution_count": 9,
   "metadata": {},
   "outputs": [],
   "source": [
    "def genarate_origami_per(pairs,index_circ_per):\n",
    "    \"\"\"\n",
    "    Input a list of up/right arrays of origamis, and the permutation of index to glue them,\n",
    "    which is represented using the circular notation, output the glued permutation of the \n",
    "    origamis as a list of arrays\n",
    "    \n",
    "    index_circ_per contains all the circles using a list of arrays, i.e [(0,1,2),(3,5,4)]\n",
    "    \"\"\"\n",
    "    list_per = []\n",
    "    for circle in index_circ_per:\n",
    "        list_circ = []\n",
    "        for i in circle:\n",
    "            for j in pairs[i]:\n",
    "                list_circ.append(j)\n",
    "        circ = np.array(list_circ)\n",
    "        circ = circ.reshape(-1,)\n",
    "        list_per.append(circ)\n",
    "    return list_per\n",
    "\n",
    "#all_up_circ = circ_per(8)\n",
    "#index_circ_per = all_up_circ[3]\n",
    "#up_pairs, right_pairs = two_up_right_pairs(3,5,2,8)"
   ]
  },
  {
   "cell_type": "code",
   "execution_count": 10,
   "metadata": {},
   "outputs": [],
   "source": [
    "def genarate_all_per(pairs,n):\n",
    "    \"\"\"\n",
    "    Input a list of n permutation pieces, give all possible permutations \n",
    "    by gluning the pieces together\n",
    "    \"\"\"\n",
    "    all_circ = circ_per(n)\n",
    "    list_per = []\n",
    "    for circ in all_circ:\n",
    "        pair_circ = genarate_origami_per(pairs,circ)\n",
    "        list_per.append(pair_circ)\n",
    "    return list_per\n",
    "\n",
    "up_pairs, right_pairs = two_up_right_pairs(2,3,2,4)\n",
    "up_list_per = genarate_all_per(up_pairs,4)\n",
    "#rigth_list_per = genarate_all_per(right_pairs,3)"
   ]
  },
  {
   "cell_type": "code",
   "execution_count": 11,
   "metadata": {},
   "outputs": [],
   "source": [
    "def list_to_string_per(list_per):\n",
    "    \"\"\"\n",
    "    Take in a circular permutation represented as a list of arrays,\n",
    "    output the circular permutation represented as a string\n",
    "    \"\"\"\n",
    "    outstr = ''\n",
    "    for arr in list_per:\n",
    "        arr2 = np.array((arr, arr)).reshape(-1,)\n",
    "        l = arr2.shape[0]\n",
    "        if (l != 2):\n",
    "            l = arr.shape[0]\n",
    "            onestr = '('\n",
    "            for i in range(l-1):\n",
    "                onestr = onestr + f'{arr[i]}, '\n",
    "            onestr = onestr + f'{arr[l-1]})'\n",
    "            outstr = outstr + onestr\n",
    "    return outstr\n",
    "\n",
    "#list_per = [np.array((1,2)),np.array((0))]\n",
    "#list_to_string_per(list_per)"
   ]
  },
  {
   "cell_type": "code",
   "execution_count": 12,
   "metadata": {},
   "outputs": [],
   "source": [
    "def permutation_rectangle(h,u):\n",
    "    \"\"\"\n",
    "    Input a rectangle with height h and width w, output all possible right and up permutations\n",
    "    to construct a rectangle surface\n",
    "    \"\"\"\n",
    "    up_pairs,right_pairs = up_right_pairs(h,u)\n",
    "    all_up_per = genarate_all_per(up_pairs,u)\n",
    "    all_right_per = genarate_all_per(right_pairs,h)\n",
    "    pair_per = []\n",
    "    for up_per in all_up_per:\n",
    "        for right_per in all_right_per:\n",
    "            up = list_to_string_per(up_per)\n",
    "            right = list_to_string_per(right_per)\n",
    "            pair_per.append((up,right))\n",
    "    return pair_per\n",
    "            \n",
    "\n",
    "#permutation_rectangle(3,2)"
   ]
  },
  {
   "cell_type": "code",
   "execution_count": 13,
   "metadata": {},
   "outputs": [],
   "source": [
    "def origami_rectangle(h,u):\n",
    "    \"\"\"\n",
    "    Input a rectangle with height h and width w, output all unique origamis\n",
    "    \"\"\"\n",
    "    pair_per = permutation_rectangle(h,u)\n",
    "    Sx = []\n",
    "    for pair in pair_per:\n",
    "        up = pair[0]\n",
    "        right = pair[1]\n",
    "        origami = Origami(up, right)\n",
    "        flag = 0\n",
    "        for oi in Sx:\n",
    "            if (origami.is_isomorphic(oi)):\n",
    "                flag = 1\n",
    "                break\n",
    "        if (flag == 0):\n",
    "            Sx.append(origami)\n",
    "    return Sx\n",
    "\n",
    "#S = origami_rectangle(3,2)\n",
    "#S[2].plot()"
   ]
  },
  {
   "cell_type": "code",
   "execution_count": 14,
   "metadata": {},
   "outputs": [],
   "source": [
    "def two_permutation_rectangle(h1,u1,h2,u2):\n",
    "    \"\"\"\n",
    "    Input two rectangles with height h1, h2 and width u1, u2, output all possible right and up permutations\n",
    "    to construct a surface\n",
    "    \"\"\"\n",
    "    up_pairs,right_pairs = two_up_right_pairs(h1,u1,h2,u2)\n",
    "    all_up_per = genarate_all_per(up_pairs,u2)\n",
    "    all_right_per = genarate_all_per(right_pairs,h1+h2)\n",
    "    pair_per = []\n",
    "    for up_per in all_up_per:\n",
    "        for right_per in all_right_per:\n",
    "            up = list_to_string_per(up_per)\n",
    "            right = list_to_string_per(right_per)\n",
    "            pair_per.append((up,right))\n",
    "    return pair_per"
   ]
  },
  {
   "cell_type": "code",
   "execution_count": 15,
   "metadata": {},
   "outputs": [],
   "source": [
    "def two_origami_rectangle(h1,u1,h2,u2):\n",
    "    \"\"\"\n",
    "    Input two rectangles with height h1, h2 and width u1, u2, output all unique origamis\n",
    "    \"\"\"\n",
    "    pair_per = two_permutation_rectangle(h1,u1,h2,u2)\n",
    "    Sx = []\n",
    "    for pair in pair_per:\n",
    "        up = pair[0]\n",
    "        right = pair[1]\n",
    "        origami = Origami(up, right)\n",
    "        #Sx.append(origami)\n",
    "        flag = 0\n",
    "        for oi in Sx:\n",
    "            if (origami.is_isomorphic(oi)):\n",
    "                flag = 1\n",
    "                break\n",
    "        if (flag == 0):\n",
    "            Sx.append(origami)\n",
    "    #print(len(Sx))\n",
    "    return Sx\n",
    "\n",
    "#S = two_origami_rectangle(2,3,2,4)\n",
    "#S[2].plot()"
   ]
  },
  {
   "cell_type": "code",
   "execution_count": 16,
   "metadata": {},
   "outputs": [
    {
     "name": "stdout",
     "output_type": "stream",
     "text": [
      "244\n"
     ]
    }
   ],
   "source": [
    "def construct_Sn(n):\n",
    "    \"\"\"\n",
    "    Input an integer n, output a list of all square-tilled surfaces in Sn\n",
    "    \"\"\"\n",
    "    Sn = []\n",
    "    hhuu_pairs = decomposeHUHU(n)\n",
    "    for h1,u1,h2,u2 in hhuu_pairs:\n",
    "        Si = two_origami_rectangle(h1,u1,h2,u2)\n",
    "        Sn = Sn + Si\n",
    "    print(len(Sn))\n",
    "    return Sn\n",
    "\n",
    "Sn = construct_Sn(6)"
   ]
  },
  {
   "cell_type": "code",
   "execution_count": 17,
   "metadata": {},
   "outputs": [
    {
     "name": "stdout",
     "output_type": "stream",
     "text": [
      "234\n"
     ]
    }
   ],
   "source": [
    "def double_check_construct_Sn(n):\n",
    "    \"\"\"\n",
    "    Input an integer n, output a list of all square-tilled surfaces in Sn\n",
    "    \"\"\"\n",
    "    Sn = []\n",
    "    hhuu_pairs = decomposeHUHU(n)\n",
    "    for h1,u1,h2,u2 in hhuu_pairs:\n",
    "        Si = two_origami_rectangle(h1,u1,h2,u2)\n",
    "        for oi in Si:\n",
    "            flag = 0\n",
    "            for on in Sn:\n",
    "                if (oi.is_isomorphic(on)):\n",
    "                    flag = 1\n",
    "                    break\n",
    "            if (flag == 0):\n",
    "                Sn.append(oi)\n",
    "    print(len(Sn))\n",
    "    return Sn\n",
    "\n",
    "Sn = double_check_construct_Sn(6)"
   ]
  },
  {
   "cell_type": "code",
   "execution_count": 18,
   "metadata": {},
   "outputs": [
    {
     "name": "stdout",
     "output_type": "stream",
     "text": [
      "1501\n"
     ]
    }
   ],
   "source": [
    "Sn = construct_Sn(7)"
   ]
  },
  {
   "cell_type": "code",
   "execution_count": 20,
   "metadata": {},
   "outputs": [
    {
     "name": "stdout",
     "output_type": "stream",
     "text": [
      "1399\n"
     ]
    }
   ],
   "source": [
    "Sn = double_check_construct_Sn(7) \n",
    "#result shows that there's still posibility for the first method to have isomorphic origamis, but not much"
   ]
  }
 ],
 "metadata": {
  "kernelspec": {
   "display_name": "SageMath 9.2",
   "language": "sage",
   "name": "sagemath"
  },
  "language_info": {
   "codemirror_mode": {
    "name": "ipython",
    "version": 3
   },
   "file_extension": ".py",
   "mimetype": "text/x-python",
   "name": "python",
   "nbconvert_exporter": "python",
   "pygments_lexer": "ipython3",
   "version": "3.7.7"
  }
 },
 "nbformat": 4,
 "nbformat_minor": 5
}
