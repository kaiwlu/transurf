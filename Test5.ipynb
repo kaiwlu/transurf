{
 "cells": [
  {
   "cell_type": "code",
   "execution_count": 6,
   "metadata": {},
   "outputs": [],
   "source": [
    "from surface_dynamics.all import Origami # Setting up the imports\n",
    "import numpy as np"
   ]
  },
  {
   "cell_type": "code",
   "execution_count": 7,
   "metadata": {},
   "outputs": [],
   "source": [
    "def singularXYCoord(origami, cylindertop, singularity):\n",
    "    '''\n",
    "    Input:\n",
    "    The origami, top row of the simple cylinder, the singularities(squares with singularity on the top right corner)\n",
    "    Output:\n",
    "    The xy coordinates of the singularities as they appear above the cylinder, as a list of pairs/2d array\n",
    "    '''\n",
    "    downVec = origami.u_inv_tuple()\n",
    "    rightVec = origami.r_tuple()\n",
    "    topRow = [x - 1 for x in cylindertop] # needs to be 0-indexed\n",
    "    singular = [x - 1 for x in singularity] # needs to be 0-indexed\n",
    "    topRightHiPair = {}\n",
    "    topLeftHiPair = {}\n",
    "    for s in singular:\n",
    "        traveller = downVec[s]\n",
    "        height = 1\n",
    "        miss = True\n",
    "        while traveller != s: # travel downward until hit top row of cylinder or one full cycle\n",
    "            if traveller in topRow:\n",
    "                topRightHiPair[traveller] = height\n",
    "                miss = False\n",
    "                break\n",
    "            traveller = downVec[traveller]\n",
    "            height = height + 1\n",
    "        if miss: # it travelled one full cycle, might want to try the other side of the singularity\n",
    "            traveller = downVec[rightVec[s]]\n",
    "            height = 1\n",
    "            while traveller != rightVec[s]:\n",
    "                if traveller in topRow:\n",
    "                    topLeftHiPair[traveller] = height\n",
    "                    break\n",
    "                traveller = downVec[traveller]\n",
    "                height = height + 1\n",
    "    xycoords = []\n",
    "    for index, ind in enumerate(topRow):\n",
    "        if topLeftHiPair.get(ind) != None: # this point in the cylinder has an intersection\n",
    "            xycoords.append([index, topLeftHiPair[ind]])\n",
    "        if topRightHiPair.get(ind) != None:\n",
    "            xycoords.append([index + 1, topRightHiPair[ind]])\n",
    "    print(xycoords)\n",
    "    return xycoords"
   ]
  },
  {
   "cell_type": "code",
   "execution_count": 8,
   "metadata": {},
   "outputs": [],
   "source": [
    "def newsingularXYCoord(origami, cylindertop, singularity, listinfo):\n",
    "    '''\n",
    "    Input:\n",
    "    The origami, top row of the simple cylinder, the singularities(squares with singularity on the top right corner)\n",
    "    listinfo of {ip, pres_move, len(path)}, where the intersection is pres_move to the right of square ip\n",
    "    Output:\n",
    "    The xy coordinates of the singularities as they appear above the cylinder, as a list of pairs/2d array\n",
    "    '''\n",
    "    downVec = origami.u_inv_tuple()\n",
    "    rightVec = origami.r_tuple()\n",
    "    topRow = [x - 1 for x in cylindertop] # needs to be 0-indexed\n",
    "    singular = [x - 1 for x in singularity] # needs to be 0-indexed\n",
    "    topRightHiPair = {}\n",
    "    for tup in listinfo:\n",
    "        topRightHiPair[tup[1][1]] = [tup[1][2], tup[1][3]]\n",
    "    while topRow[0] not in singular:\n",
    "        topRow = np.roll(topRow, 1)\n",
    "    xycoords = [[0,0]]\n",
    "    for index, ind in enumerate(topRow):\n",
    "        if topRightHiPair.get(ind) != None:# this point in the cylinder has an intersection\n",
    "            xycoords.append([index + topRightHiPair[ind][0], topRightHiPair[ind][1]])\n",
    "    xycoords.append([len(topRow),0])\n",
    "    # print(xycoords)\n",
    "    return xycoords"
   ]
  },
  {
   "cell_type": "code",
   "execution_count": 9,
   "metadata": {},
   "outputs": [],
   "source": [
    "def checkConvexity(xycoords):\n",
    "    '''\n",
    "    Requires: xycoordinates of the singularity above the cylinder\n",
    "    Effects: checks if it is convex via the fifth test\n",
    "    '''\n",
    "    slope = np.inf\n",
    "    for index, pair in enumerate(xycoords):\n",
    "        if index > 0:\n",
    "            newslope = (pair[1] - xycoords[index - 1][1])/float(pair[0] - xycoords[index - 1][0])\n",
    "            if newslope >= slope:\n",
    "                return false\n",
    "            slope = newslope\n",
    "    return true"
   ]
  },
  {
   "cell_type": "code",
   "execution_count": 10,
   "metadata": {},
   "outputs": [
    {
     "data": {
      "image/png": "[encoded data removed]",
      "text/plain": [
       "Graphics object consisting of 93 graphics primitives"
      ]
     },
     "metadata": {},
     "output_type": "display_data"
    },
    {
     "name": "stdout",
     "output_type": "stream",
     "text": [
      "[[0, 1], [3, 1]]\n"
     ]
    },
    {
     "data": {
      "text/plain": [
       "True"
      ]
     },
     "execution_count": 10,
     "metadata": {},
     "output_type": "execute_result"
    }
   ],
   "source": [
    "ori = Origami('(1,2,3)(4,5,6,7,8)(9,10,11)','(1,5,9)(2,6,10)(3,7,11)')\n",
    "ori.show()\n",
    "xy = singularXYCoord(ori, [1, 2, 3], [3,4,7])\n",
    "checkConvexity(xy)"
   ]
  },
  {
   "cell_type": "code",
   "execution_count": null,
   "metadata": {},
   "outputs": [],
   "source": []
  }
 ],
 "metadata": {
  "kernelspec": {
   "display_name": "SageMath 9.2",
   "language": "sage",
   "name": "sagemath"
  },
  "language_info": {
   "codemirror_mode": {
    "name": "ipython",
    "version": 3
   },
   "file_extension": ".py",
   "mimetype": "text/x-python",
   "name": "python",
   "nbconvert_exporter": "python",
   "pygments_lexer": "ipython3",
   "version": "3.7.7"
  }
 },
 "nbformat": 4,
 "nbformat_minor": 4
}
